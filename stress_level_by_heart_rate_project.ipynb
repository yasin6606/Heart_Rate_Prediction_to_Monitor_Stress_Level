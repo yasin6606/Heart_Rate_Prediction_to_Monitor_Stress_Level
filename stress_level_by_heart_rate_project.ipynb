{
 "cells": [
  {
   "cell_type": "markdown",
   "id": "bdeb5c3f-4571-4b72-a127-4e684f2715c0",
   "metadata": {
    "jp-MarkdownHeadingCollapsed": true
   },
   "source": [
    "# Package Installation"
   ]
  },
  {
   "cell_type": "code",
   "execution_count": 1,
   "id": "58eacb29-217d-42b7-8bd3-900d3047da9f",
   "metadata": {},
   "outputs": [
    {
     "name": "stdout",
     "output_type": "stream",
     "text": [
      "Requirement already satisfied: torchmetrics in c:\\users\\yasin\\appdata\\local\\programs\\python\\python312\\lib\\site-packages (1.6.0)\n",
      "Requirement already satisfied: tqdm in c:\\users\\yasin\\appdata\\local\\programs\\python\\python312\\lib\\site-packages (4.67.1)\n",
      "Requirement already satisfied: numpy>1.20.0 in c:\\users\\yasin\\appdata\\local\\programs\\python\\python312\\lib\\site-packages (from torchmetrics) (1.26.4)\n",
      "Requirement already satisfied: packaging>17.1 in c:\\users\\yasin\\appdata\\local\\programs\\python\\python312\\lib\\site-packages (from torchmetrics) (24.1)\n",
      "Requirement already satisfied: torch>=2.0.0 in c:\\users\\yasin\\appdata\\local\\programs\\python\\python312\\lib\\site-packages (from torchmetrics) (2.5.1+cu124)\n",
      "Requirement already satisfied: lightning-utilities>=0.8.0 in c:\\users\\yasin\\appdata\\local\\programs\\python\\python312\\lib\\site-packages (from torchmetrics) (0.11.9)\n",
      "Requirement already satisfied: colorama in c:\\users\\yasin\\appdata\\local\\programs\\python\\python312\\lib\\site-packages (from tqdm) (0.4.6)\n",
      "Requirement already satisfied: setuptools in c:\\users\\yasin\\appdata\\local\\programs\\python\\python312\\lib\\site-packages (from lightning-utilities>=0.8.0->torchmetrics) (72.1.0)\n",
      "Requirement already satisfied: typing-extensions in c:\\users\\yasin\\appdata\\local\\programs\\python\\python312\\lib\\site-packages (from lightning-utilities>=0.8.0->torchmetrics) (4.12.2)\n",
      "Requirement already satisfied: filelock in c:\\users\\yasin\\appdata\\local\\programs\\python\\python312\\lib\\site-packages (from torch>=2.0.0->torchmetrics) (3.15.4)\n",
      "Requirement already satisfied: networkx in c:\\users\\yasin\\appdata\\local\\programs\\python\\python312\\lib\\site-packages (from torch>=2.0.0->torchmetrics) (3.3)\n",
      "Requirement already satisfied: jinja2 in c:\\users\\yasin\\appdata\\local\\programs\\python\\python312\\lib\\site-packages (from torch>=2.0.0->torchmetrics) (3.1.4)\n",
      "Requirement already satisfied: fsspec in c:\\users\\yasin\\appdata\\local\\programs\\python\\python312\\lib\\site-packages (from torch>=2.0.0->torchmetrics) (2024.6.1)\n",
      "Requirement already satisfied: sympy==1.13.1 in c:\\users\\yasin\\appdata\\local\\programs\\python\\python312\\lib\\site-packages (from torch>=2.0.0->torchmetrics) (1.13.1)\n",
      "Requirement already satisfied: mpmath<1.4,>=1.1.0 in c:\\users\\yasin\\appdata\\local\\programs\\python\\python312\\lib\\site-packages (from sympy==1.13.1->torch>=2.0.0->torchmetrics) (1.3.0)\n",
      "Requirement already satisfied: MarkupSafe>=2.0 in c:\\users\\yasin\\appdata\\local\\programs\\python\\python312\\lib\\site-packages (from jinja2->torch>=2.0.0->torchmetrics) (2.1.5)\n"
     ]
    },
    {
     "name": "stderr",
     "output_type": "stream",
     "text": [
      "\n",
      "[notice] A new release of pip is available: 24.2 -> 24.3.1\n",
      "[notice] To update, run: python.exe -m pip install --upgrade pip\n"
     ]
    }
   ],
   "source": [
    "!pip3 install torchmetrics tqdm --break-system-packages"
   ]
  },
  {
   "cell_type": "markdown",
   "id": "b7ef2a9e-91ca-4054-aa88-71b4537534f4",
   "metadata": {},
   "source": [
    "# Import"
   ]
  },
  {
   "cell_type": "code",
   "execution_count": 2,
   "id": "ec6e99db-e806-4658-9ab1-b3d8e171fe00",
   "metadata": {},
   "outputs": [],
   "source": [
    "import torch\n",
    "import torch.nn as nn\n",
    "from torch.utils.data import TensorDataset, DataLoader\n",
    "import torch.optim as optim\n",
    "import torch.nn.functional as F\n",
    "\n",
    "import pandas as pd\n",
    "import matplotlib.pyplot as plt\n",
    "\n",
    "from sklearn.preprocessing import LabelEncoder, StandardScaler, OneHotEncoder\n",
    "from sklearn.model_selection import train_test_split\n",
    "\n",
    "from glob import glob\n",
    "from tqdm import tqdm\n",
    "from torchmetrics import Accuracy"
   ]
  },
  {
   "cell_type": "markdown",
   "id": "7cf4adb6-dce8-4fc0-8e48-f7aade8badb9",
   "metadata": {
    "jp-MarkdownHeadingCollapsed": true
   },
   "source": [
    "# Device"
   ]
  },
  {
   "cell_type": "code",
   "execution_count": 3,
   "id": "fcd7c2fd-b47d-42f6-b19d-2bc7809226c4",
   "metadata": {},
   "outputs": [
    {
     "data": {
      "text/plain": [
       "'cuda'"
      ]
     },
     "execution_count": 3,
     "metadata": {},
     "output_type": "execute_result"
    }
   ],
   "source": [
    "device = \"cuda\" if torch.cuda.is_available() else \"cpu\"\n",
    "device"
   ]
  },
  {
   "cell_type": "markdown",
   "id": "c2e18651-895a-4d60-8ce6-0c5f3cfa2844",
   "metadata": {
    "jp-MarkdownHeadingCollapsed": true
   },
   "source": [
    "# Classes and Functions"
   ]
  },
  {
   "cell_type": "code",
   "execution_count": 4,
   "id": "d15ce95f-e4a9-484a-9332-8bc9e2368ba0",
   "metadata": {},
   "outputs": [],
   "source": [
    "def read_dataset(phase: str):\n",
    "    df = pd.concat((pd.read_csv(f) for f in glob(f\"./{phase.lower()}_data/*.csv\")), axis=1)\n",
    "    df_u = df.loc[:, ~df.columns.duplicated()].copy()\n",
    "\n",
    "    return df_u"
   ]
  },
  {
   "cell_type": "code",
   "execution_count": 5,
   "id": "1a33ad70-8c38-4385-9b4e-f99f9c602806",
   "metadata": {},
   "outputs": [],
   "source": [
    "class Averaging():\n",
    "    def __init__(self):\n",
    "        self.sum = 0.\n",
    "        self.counter = 0\n",
    "\n",
    "    def cal_avg(self, val: float) -> float:\n",
    "        self.sum += val\n",
    "        self.counter += 1\n",
    "        \n",
    "        return self.sum / self.counter\n",
    "\n",
    "    def reset(self) -> None:\n",
    "        self.sum = 0.\n",
    "        self.counter = 0"
   ]
  },
  {
   "cell_type": "code",
   "execution_count": 6,
   "id": "2e455a3b-4734-4f5a-a95a-ba8338dcc606",
   "metadata": {},
   "outputs": [],
   "source": [
    "def train_one_epoch(model: nn.Linear, data_loader: DataLoader, optimizer: optim, loss_fn, avg_fn: Averaging, accuracy_fn, ep: int, device: str):\n",
    "    model.train()\n",
    "\n",
    "    avg_fn.reset()\n",
    "    accuracy_fn.reset()\n",
    "\n",
    "    with tqdm(data_loader, desc=f\"Epoch: {ep}\", unit=\" batch\") as trange:\n",
    "        for x_batch, y_batch in trange:\n",
    "            x_batch, y_batch = x_batch.to(device), y_batch.to(device)\n",
    "\n",
    "            # Forward\n",
    "            yp = model(x_batch)\n",
    "            loss = loss_fn(yp, y_batch)\n",
    "\n",
    "            # Backward\n",
    "            loss.backward()\n",
    "            optimizer.step()\n",
    "            optimizer.zero_grad()\n",
    "\n",
    "            # Calculate average of loss\n",
    "            loss_avg = avg_fn.cal_avg(loss.item())\n",
    "\n",
    "            # Calculate accuracy\n",
    "            accuracy_fn(yp, y_batch)\n",
    "            accuracy = accuracy_fn.compute().item()\n",
    "\n",
    "            trange.set_postfix(loss=loss_avg, accuracy=100*accuracy)\n",
    "\n",
    "    return model, loss_avg, accuracy"
   ]
  },
  {
   "cell_type": "code",
   "execution_count": 7,
   "id": "465109df-01b0-4175-ac34-996f39c2b011",
   "metadata": {},
   "outputs": [],
   "source": [
    "def validation_one_epoch(model: nn.Linear, data_loader: DataLoader, loss_fn, avg_fn: Averaging, accuracy_fn, device: str):\n",
    "    model.eval()\n",
    "\n",
    "    avg_fn.reset()\n",
    "    accuracy_fn.reset()\n",
    "\n",
    "    with torch.no_grad():\n",
    "        for x_batch, y_batch in data_loader:\n",
    "            x_batch, y_batch = x_batch.to(device), y_batch.to(device)\n",
    "\n",
    "            # Forward\n",
    "            yp = model(x_batch)\n",
    "            loss = loss_fn(yp, y_batch)\n",
    "\n",
    "            # Calculate average of loss\n",
    "            loss_avg = avg_fn.cal_avg(loss.item())\n",
    "\n",
    "            # Calculate accuracy\n",
    "            accuracy_fn(yp, y_batch)\n",
    "            accuracy = accuracy_fn.compute().item()\n",
    "\n",
    "    return loss_avg, accuracy"
   ]
  },
  {
   "cell_type": "code",
   "execution_count": 8,
   "id": "4eb100ff-fce1-403d-bf85-3c9059b3c5e0",
   "metadata": {},
   "outputs": [],
   "source": [
    "def plot_loss_acc(train_loss: list, valid_loss: list, train_acc: list, valid_acc: list):\n",
    "    fig, axs = plt.subplots(nrows=1, ncols=2, figsize=(15, 4))\n",
    "\n",
    "    axs[0].plot(train_loss, c='b', label=\"Train Loss\")\n",
    "    axs[0].plot(valid_loss, c='r', label=\"Valid Loss\")\n",
    "    axs[0].set_title(\"Learning Curve\")\n",
    "    axs[0].set_xlabel(\"Epoch\")\n",
    "    axs[0].set_ylabel(\"Cross Entropy Loss\")\n",
    "    axs[0].grid()\n",
    "    axs[0].legend()\n",
    "    \n",
    "    axs[1].plot(train_acc, c='b', label=\"Train Acc\")\n",
    "    axs[1].plot(valid_acc, c='r', label=\"Valid Acc\")\n",
    "    axs[1].set_title(\"Accuracy Curve\")\n",
    "    axs[1].set_xlabel(\"Epoch\")\n",
    "    axs[1].set_ylabel(\"Accuracy\")\n",
    "    axs[1].grid()\n",
    "    axs[1].legend()"
   ]
  },
  {
   "cell_type": "markdown",
   "id": "c457b4b2-cf02-40de-8396-4341bccf3ba0",
   "metadata": {},
   "source": [
    "# Read Train and Test Dataset"
   ]
  },
  {
   "cell_type": "code",
   "execution_count": 9,
   "id": "5bff9725-7136-4bf0-9ac7-a400b47a83c4",
   "metadata": {},
   "outputs": [
    {
     "data": {
      "text/plain": [
       "((369289, 37), (41033, 36))"
      ]
     },
     "execution_count": 9,
     "metadata": {},
     "output_type": "execute_result"
    }
   ],
   "source": [
    "train_set = read_dataset(\"train\")\n",
    "test_set = read_dataset(\"test\")\n",
    "\n",
    "train_set.shape, test_set.shape"
   ]
  },
  {
   "cell_type": "markdown",
   "id": "4136ecdd-6f77-4e97-b574-c788c69b2523",
   "metadata": {},
   "source": [
    "# Select suitable Features and define Target"
   ]
  },
  {
   "cell_type": "code",
   "execution_count": 10,
   "id": "9d2af4c6-685a-48e5-9983-960080e4068d",
   "metadata": {},
   "outputs": [],
   "source": [
    "features_label = [\"MEAN_RR\",\"RMSSD\",\"pNN25\",\"pNN50\",\"LF\",\"HF\",\"LF_HF\"]\n",
    "target_label = \"condition\""
   ]
  },
  {
   "cell_type": "markdown",
   "id": "08eda114-edfd-44a9-b801-2520546644fd",
   "metadata": {},
   "source": [
    "# Train Phase"
   ]
  },
  {
   "cell_type": "markdown",
   "id": "88067167-6336-4165-983b-cbee2937efcc",
   "metadata": {},
   "source": [
    "## Preprocessing"
   ]
  },
  {
   "cell_type": "markdown",
   "id": "ffae1e28-561c-4dc7-a40f-4b8f036d9c25",
   "metadata": {
    "jp-MarkdownHeadingCollapsed": true
   },
   "source": [
    "### Check Nan data"
   ]
  },
  {
   "cell_type": "code",
   "execution_count": 11,
   "id": "ce3b4e28-93e0-4806-bd1a-6d4edcebf99b",
   "metadata": {},
   "outputs": [
    {
     "name": "stdout",
     "output_type": "stream",
     "text": [
      "<class 'pandas.core.frame.DataFrame'>\n",
      "RangeIndex: 369289 entries, 0 to 369288\n",
      "Data columns (total 7 columns):\n",
      " #   Column   Non-Null Count   Dtype  \n",
      "---  ------   --------------   -----  \n",
      " 0   MEAN_RR  369289 non-null  float64\n",
      " 1   RMSSD    369289 non-null  float64\n",
      " 2   pNN25    369289 non-null  float64\n",
      " 3   pNN50    369289 non-null  float64\n",
      " 4   LF       369289 non-null  float64\n",
      " 5   HF       369289 non-null  float64\n",
      " 6   LF_HF    369289 non-null  float64\n",
      "dtypes: float64(7)\n",
      "memory usage: 19.7 MB\n"
     ]
    }
   ],
   "source": [
    "train_set[features_label].info()"
   ]
  },
  {
   "cell_type": "code",
   "execution_count": 12,
   "id": "5c238b91-cd88-41c4-a9e9-5ff9bdb189be",
   "metadata": {},
   "outputs": [
    {
     "data": {
      "text/plain": [
       "MEAN_RR    0\n",
       "RMSSD      0\n",
       "pNN25      0\n",
       "pNN50      0\n",
       "LF         0\n",
       "HF         0\n",
       "LF_HF      0\n",
       "dtype: int64"
      ]
     },
     "execution_count": 12,
     "metadata": {},
     "output_type": "execute_result"
    }
   ],
   "source": [
    "train_set[features_label].isna().sum()"
   ]
  },
  {
   "cell_type": "markdown",
   "id": "c7438d6f-8573-4ded-ad5e-1d054846f4e7",
   "metadata": {},
   "source": [
    "### Convert target object column"
   ]
  },
  {
   "cell_type": "code",
   "execution_count": 13,
   "id": "aa2c1d89-ad0c-4d90-8b55-97256da80569",
   "metadata": {},
   "outputs": [
    {
     "data": {
      "text/plain": [
       "array(['no stress', 'interruption', 'time pressure'], dtype=object)"
      ]
     },
     "execution_count": 13,
     "metadata": {},
     "output_type": "execute_result"
    }
   ],
   "source": [
    "train_set[target_label].unique()"
   ]
  },
  {
   "cell_type": "code",
   "execution_count": 14,
   "id": "afe76420-5952-43ff-a509-dbf125e38fbc",
   "metadata": {},
   "outputs": [
    {
     "data": {
      "text/plain": [
       "array([1, 0, 2])"
      ]
     },
     "execution_count": 14,
     "metadata": {},
     "output_type": "execute_result"
    }
   ],
   "source": [
    "label_encoder = LabelEncoder()\n",
    "train_set[target_label] = label_encoder.fit_transform(train_set[target_label])\n",
    "\n",
    "train_set[target_label].unique()"
   ]
  },
  {
   "cell_type": "markdown",
   "id": "b8f09834-1e1a-4e44-a8a7-53bdbd8da819",
   "metadata": {},
   "source": [
    "### Define X and y for Trainset"
   ]
  },
  {
   "cell_type": "code",
   "execution_count": 15,
   "id": "c957334a-41cc-40c2-bec8-89bb70b09649",
   "metadata": {},
   "outputs": [
    {
     "data": {
      "text/plain": [
       "((369289, 7), (369289,))"
      ]
     },
     "execution_count": 15,
     "metadata": {},
     "output_type": "execute_result"
    }
   ],
   "source": [
    "X = train_set[features_label].values.copy()\n",
    "y = train_set[target_label].values\n",
    "\n",
    "X.shape, y.shape"
   ]
  },
  {
   "cell_type": "markdown",
   "id": "7a0d6fb6-c911-4134-b80f-48f36a43f3fb",
   "metadata": {
    "jp-MarkdownHeadingCollapsed": true
   },
   "source": [
    "### Convert to Tensor"
   ]
  },
  {
   "cell_type": "code",
   "execution_count": 16,
   "id": "95833ccd-a54b-4968-a357-5112aa1181c6",
   "metadata": {},
   "outputs": [
    {
     "data": {
      "text/plain": [
       "(torch.Size([369289, 7]), torch.Size([369289]))"
      ]
     },
     "execution_count": 16,
     "metadata": {},
     "output_type": "execute_result"
    }
   ],
   "source": [
    "x_train_tens = torch.FloatTensor(X)\n",
    "\n",
    "y_train_tens = torch.LongTensor(y)\n",
    "\n",
    "x_train_tens.shape, y_train_tens.shape"
   ]
  },
  {
   "cell_type": "markdown",
   "id": "d4653877-b18e-4eb1-9e34-f1dedefcac95",
   "metadata": {
    "jp-MarkdownHeadingCollapsed": true
   },
   "source": [
    "### Standardization"
   ]
  },
  {
   "cell_type": "code",
   "execution_count": 17,
   "id": "9aafb37a-d92c-403f-8e73-6f0a6cbb23c4",
   "metadata": {},
   "outputs": [
    {
     "data": {
      "text/plain": [
       "(torch.Size([7]), torch.Size([7]))"
      ]
     },
     "execution_count": 17,
     "metadata": {},
     "output_type": "execute_result"
    }
   ],
   "source": [
    "x_train_mean = x_train_tens.mean(dim=0)\n",
    "x_train_std = x_train_tens.std(dim=0)\n",
    "\n",
    "x_train_mean.shape, x_train_std.shape"
   ]
  },
  {
   "cell_type": "code",
   "execution_count": 18,
   "id": "835bb076-0929-498f-bd86-c45700146b21",
   "metadata": {},
   "outputs": [
    {
     "data": {
      "text/plain": [
       "torch.Size([369289, 7])"
      ]
     },
     "execution_count": 18,
     "metadata": {},
     "output_type": "execute_result"
    }
   ],
   "source": [
    "x_train_stand = (x_train_tens - x_train_mean) / x_train_std\n",
    "\n",
    "x_train_stand.shape"
   ]
  },
  {
   "cell_type": "markdown",
   "id": "725f08a4-f42b-4940-9824-d0e4adab7145",
   "metadata": {
    "jp-MarkdownHeadingCollapsed": true
   },
   "source": [
    "### Split Train and Validation sets"
   ]
  },
  {
   "cell_type": "code",
   "execution_count": 19,
   "id": "fb9c0552-9eb0-40fb-8196-8164802b99e2",
   "metadata": {},
   "outputs": [
    {
     "data": {
      "text/plain": [
       "(torch.Size([295431, 7]),\n",
       " torch.Size([73858, 7]),\n",
       " torch.Size([295431]),\n",
       " torch.Size([73858]))"
      ]
     },
     "execution_count": 19,
     "metadata": {},
     "output_type": "execute_result"
    }
   ],
   "source": [
    "x_train, x_valid, y_train, y_valid = train_test_split(x_train_stand, y_train_tens, test_size=0.2, random_state=22)\n",
    "\n",
    "x_train.shape, x_valid.shape, y_train.shape, y_valid.shape"
   ]
  },
  {
   "cell_type": "markdown",
   "id": "7bbd7311-752e-4885-b5df-705d6da6d5d8",
   "metadata": {
    "jp-MarkdownHeadingCollapsed": true
   },
   "source": [
    "### Make Data Loaders"
   ]
  },
  {
   "cell_type": "code",
   "execution_count": 20,
   "id": "1369fd53-1c52-4b5d-8747-79869d96f58d",
   "metadata": {},
   "outputs": [],
   "source": [
    "train_dataset = TensorDataset(x_train, y_train)\n",
    "valid_dataset = TensorDataset(x_valid, y_valid)\n",
    "\n",
    "train_loader = DataLoader(train_dataset, batch_size=3000, shuffle=True)\n",
    "valid_loader = DataLoader(valid_dataset, batch_size=5000)"
   ]
  },
  {
   "cell_type": "markdown",
   "id": "f503258a-e667-4a5b-af41-d31c98ff0b3b",
   "metadata": {},
   "source": [
    "## Train Model"
   ]
  },
  {
   "cell_type": "markdown",
   "id": "7361c08d-cfcf-475b-94ac-5c149ffdcb55",
   "metadata": {},
   "source": [
    "### Train"
   ]
  },
  {
   "cell_type": "code",
   "execution_count": 21,
   "id": "d4dd557d-9c5b-46b1-ac6c-af798ea11f17",
   "metadata": {},
   "outputs": [],
   "source": [
    "def train_model(num_epoch_ls: list[int], lr_ls: list[float]):\n",
    "    if len(num_epoch_ls) != len(lr_ls):\n",
    "        raise ValueError(\"The length of num_epoch_ls and lr_ls are NOT same!\")\n",
    "\n",
    "    in_features = x_train.shape[1]\n",
    "    num_classes = len(y_train_tens.unique())\n",
    "    \n",
    "    h1 = 32\n",
    "    h2 = 64\n",
    "    h3 = 32\n",
    "    \n",
    "    model = nn.Sequential(\n",
    "        nn.Linear(in_features, h1),\n",
    "        nn.ReLU(),\n",
    "        nn.Linear(h1, h2),\n",
    "        nn.ReLU(),\n",
    "        nn.Linear(h2, h3),\n",
    "        nn.ReLU(),\n",
    "        nn.Linear(h3, num_classes),\n",
    "    ).to(device)\n",
    "    \n",
    "    train_loss_hist, valid_loss_hist = [], []\n",
    "    train_acc_hist, valid_acc_hist = [], []\n",
    "    \n",
    "    acc_fn = Accuracy(task=\"multiclass\", num_classes=num_classes).to(device)\n",
    "    avg_fn = Averaging()\n",
    "    \n",
    "    loss_fn = nn.CrossEntropyLoss()\n",
    "    \n",
    "    for epoch, lr in zip(num_epoch_ls, lr_ls):\n",
    "        optimizer = optim.SGD(model.parameters(), lr=lr, momentum=0.9, nesterov=True)\n",
    "        \n",
    "        for ep in range(epoch):\n",
    "            model, train_loss_val, train_acc_val = train_one_epoch(model, train_loader, optimizer, loss_fn, avg_fn, acc_fn, ep, device)\n",
    "            valid_loss_val, valid_acc_val = validation_one_epoch(model, valid_loader, loss_fn, avg_fn, acc_fn, device)\n",
    "        \n",
    "            print(f\"Valid accuracy: {100*valid_acc_val:.4}, loss: {valid_loss_val:.4}\")\n",
    "            \n",
    "            train_loss_hist.append(train_loss_val)\n",
    "            valid_loss_hist.append(valid_loss_val)\n",
    "            \n",
    "            train_acc_hist.append(train_acc_val)\n",
    "            valid_acc_hist.append(valid_acc_val)\n",
    "\n",
    "            # Add Eearly Stopping\n",
    "\n",
    "    return model, train_loss_hist, valid_loss_hist, train_acc_hist, valid_acc_hist"
   ]
  },
  {
   "cell_type": "code",
   "execution_count": 22,
   "id": "20062d5e-2d5a-4db6-91fd-8884ab29ecc4",
   "metadata": {},
   "outputs": [
    {
     "name": "stderr",
     "output_type": "stream",
     "text": [
      "Epoch: 0: 100%|██████████████████████████████████| 99/99 [00:04<00:00, 24.04 batch/s, accuracy=60.5, loss=0.88]\n"
     ]
    },
    {
     "name": "stdout",
     "output_type": "stream",
     "text": [
      "Valid accuracy: 64.19, loss: 0.7884\n"
     ]
    },
    {
     "name": "stderr",
     "output_type": "stream",
     "text": [
      "Epoch: 1: 100%|█████████████████████████████████| 99/99 [00:04<00:00, 21.70 batch/s, accuracy=70.2, loss=0.693]\n"
     ]
    },
    {
     "name": "stdout",
     "output_type": "stream",
     "text": [
      "Valid accuracy: 75.91, loss: 0.5973\n"
     ]
    },
    {
     "name": "stderr",
     "output_type": "stream",
     "text": [
      "Epoch: 2: 100%|██████████████████████████████████| 99/99 [00:04<00:00, 20.74 batch/s, accuracy=76.7, loss=0.55]\n"
     ]
    },
    {
     "name": "stdout",
     "output_type": "stream",
     "text": [
      "Valid accuracy: 80.23, loss: 0.4796\n"
     ]
    },
    {
     "name": "stderr",
     "output_type": "stream",
     "text": [
      "Epoch: 3: 100%|█████████████████████████████████| 99/99 [00:05<00:00, 18.79 batch/s, accuracy=80.2, loss=0.476]\n"
     ]
    },
    {
     "name": "stdout",
     "output_type": "stream",
     "text": [
      "Valid accuracy: 82.1, loss: 0.4297\n"
     ]
    },
    {
     "name": "stderr",
     "output_type": "stream",
     "text": [
      "Epoch: 4: 100%|█████████████████████████████████| 99/99 [00:04<00:00, 21.18 batch/s, accuracy=83.5, loss=0.403]\n"
     ]
    },
    {
     "name": "stdout",
     "output_type": "stream",
     "text": [
      "Valid accuracy: 82.62, loss: 0.3958\n"
     ]
    },
    {
     "name": "stderr",
     "output_type": "stream",
     "text": [
      "Epoch: 5: 100%|█████████████████████████████████| 99/99 [00:04<00:00, 21.47 batch/s, accuracy=85.5, loss=0.362]\n"
     ]
    },
    {
     "name": "stdout",
     "output_type": "stream",
     "text": [
      "Valid accuracy: 87.81, loss: 0.3182\n"
     ]
    },
    {
     "name": "stderr",
     "output_type": "stream",
     "text": [
      "Epoch: 6: 100%|█████████████████████████████████| 99/99 [00:05<00:00, 19.47 batch/s, accuracy=88.2, loss=0.298]\n"
     ]
    },
    {
     "name": "stdout",
     "output_type": "stream",
     "text": [
      "Valid accuracy: 84.08, loss: 0.4083\n"
     ]
    },
    {
     "name": "stderr",
     "output_type": "stream",
     "text": [
      "Epoch: 7: 100%|██████████████████████████████████| 99/99 [00:04<00:00, 19.89 batch/s, accuracy=89.9, loss=0.26]\n"
     ]
    },
    {
     "name": "stdout",
     "output_type": "stream",
     "text": [
      "Valid accuracy: 90.44, loss: 0.241\n"
     ]
    },
    {
     "name": "stderr",
     "output_type": "stream",
     "text": [
      "Epoch: 8: 100%|█████████████████████████████████| 99/99 [00:05<00:00, 19.21 batch/s, accuracy=90.9, loss=0.239]\n"
     ]
    },
    {
     "name": "stdout",
     "output_type": "stream",
     "text": [
      "Valid accuracy: 92.8, loss: 0.1871\n"
     ]
    },
    {
     "name": "stderr",
     "output_type": "stream",
     "text": [
      "Epoch: 9: 100%|█████████████████████████████████| 99/99 [00:05<00:00, 16.64 batch/s, accuracy=93.5, loss=0.177]\n"
     ]
    },
    {
     "name": "stdout",
     "output_type": "stream",
     "text": [
      "Valid accuracy: 82.98, loss: 0.5506\n"
     ]
    },
    {
     "name": "stderr",
     "output_type": "stream",
     "text": [
      "Epoch: 0: 100%|█████████████████████████████████| 99/99 [00:05<00:00, 17.59 batch/s, accuracy=95.3, loss=0.136]\n"
     ]
    },
    {
     "name": "stdout",
     "output_type": "stream",
     "text": [
      "Valid accuracy: 95.66, loss: 0.1273\n"
     ]
    },
    {
     "name": "stderr",
     "output_type": "stream",
     "text": [
      "Epoch: 1: 100%|█████████████████████████████████| 99/99 [00:05<00:00, 18.45 batch/s, accuracy=95.9, loss=0.117]\n"
     ]
    },
    {
     "name": "stdout",
     "output_type": "stream",
     "text": [
      "Valid accuracy: 96.06, loss: 0.1138\n"
     ]
    },
    {
     "name": "stderr",
     "output_type": "stream",
     "text": [
      "Epoch: 2: 100%|█████████████████████████████████| 99/99 [00:04<00:00, 21.60 batch/s, accuracy=96.3, loss=0.107]\n"
     ]
    },
    {
     "name": "stdout",
     "output_type": "stream",
     "text": [
      "Valid accuracy: 96.42, loss: 0.1037\n"
     ]
    },
    {
     "name": "stderr",
     "output_type": "stream",
     "text": [
      "Epoch: 3: 100%|████████████████████████████████| 99/99 [00:04<00:00, 22.41 batch/s, accuracy=96.6, loss=0.0977]\n"
     ]
    },
    {
     "name": "stdout",
     "output_type": "stream",
     "text": [
      "Valid accuracy: 96.67, loss: 0.09693\n"
     ]
    },
    {
     "name": "stderr",
     "output_type": "stream",
     "text": [
      "Epoch: 4: 100%|█████████████████████████████████| 99/99 [00:05<00:00, 18.54 batch/s, accuracy=96.8, loss=0.091]\n"
     ]
    },
    {
     "name": "stdout",
     "output_type": "stream",
     "text": [
      "Valid accuracy: 96.91, loss: 0.08944\n"
     ]
    },
    {
     "name": "stderr",
     "output_type": "stream",
     "text": [
      "Epoch: 0: 100%|█████████████████████████████████| 99/99 [00:04<00:00, 20.53 batch/s, accuracy=97.2, loss=0.082]\n"
     ]
    },
    {
     "name": "stdout",
     "output_type": "stream",
     "text": [
      "Valid accuracy: 97.26, loss: 0.0815\n"
     ]
    },
    {
     "name": "stderr",
     "output_type": "stream",
     "text": [
      "Epoch: 1: 100%|████████████████████████████████| 99/99 [00:06<00:00, 14.43 batch/s, accuracy=97.3, loss=0.0801]\n"
     ]
    },
    {
     "name": "stdout",
     "output_type": "stream",
     "text": [
      "Valid accuracy: 97.37, loss: 0.07986\n"
     ]
    },
    {
     "name": "stderr",
     "output_type": "stream",
     "text": [
      "Epoch: 2: 100%|████████████████████████████████| 99/99 [00:06<00:00, 14.59 batch/s, accuracy=97.4, loss=0.0786]\n"
     ]
    },
    {
     "name": "stdout",
     "output_type": "stream",
     "text": [
      "Valid accuracy: 97.39, loss: 0.0794\n"
     ]
    },
    {
     "name": "stderr",
     "output_type": "stream",
     "text": [
      "Epoch: 3: 100%|████████████████████████████████| 99/99 [00:05<00:00, 17.78 batch/s, accuracy=97.5, loss=0.0772]\n"
     ]
    },
    {
     "name": "stdout",
     "output_type": "stream",
     "text": [
      "Valid accuracy: 97.45, loss: 0.07801\n"
     ]
    },
    {
     "name": "stderr",
     "output_type": "stream",
     "text": [
      "Epoch: 4: 100%|████████████████████████████████| 99/99 [00:04<00:00, 20.46 batch/s, accuracy=97.5, loss=0.0756]\n"
     ]
    },
    {
     "name": "stdout",
     "output_type": "stream",
     "text": [
      "Valid accuracy: 97.39, loss: 0.07632\n"
     ]
    }
   ],
   "source": [
    "model, train_loss_hist, valid_loss_hist, train_acc_hist, valid_acc_hist = train_model([10, 5, 5], [0.1, 0.05, 0.01])"
   ]
  },
  {
   "cell_type": "code",
   "execution_count": 23,
   "id": "c89b06c4-a8c8-4de1-8708-651c684acac6",
   "metadata": {},
   "outputs": [
    {
     "data": {
      "image/png": "[encoded data removed]",
      "text/plain": [
       "<Figure size 1500x400 with 2 Axes>"
      ]
     },
     "metadata": {},
     "output_type": "display_data"
    }
   ],
   "source": [
    "plot_loss_acc(train_loss_hist, valid_loss_hist, train_acc_hist, valid_acc_hist)"
   ]
  },
  {
   "cell_type": "markdown",
   "id": "c9761fb8-f86c-4438-8c09-723a08484ff4",
   "metadata": {
    "jp-MarkdownHeadingCollapsed": true
   },
   "source": [
    "### Save final model"
   ]
  },
  {
   "cell_type": "code",
   "execution_count": 24,
   "id": "b899ec8c-a017-4945-a353-afee3c9ab21e",
   "metadata": {},
   "outputs": [],
   "source": [
    "model.eval()\n",
    "torch.save(model, \"stress_level_detection_model.pt\")"
   ]
  },
  {
   "cell_type": "markdown",
   "id": "a832f1cb-e5c8-490a-9b58-82a4b0258914",
   "metadata": {
    "jp-MarkdownHeadingCollapsed": true
   },
   "source": [
    "# Test Phase"
   ]
  },
  {
   "cell_type": "markdown",
   "id": "a5eb8c1b-632f-42bd-870b-101040a7f582",
   "metadata": {
    "jp-MarkdownHeadingCollapsed": true
   },
   "source": [
    "## Load the model"
   ]
  },
  {
   "cell_type": "code",
   "execution_count": 25,
   "id": "77e9c756-3cc6-4b70-89f8-a29655c1f0d1",
   "metadata": {},
   "outputs": [],
   "source": [
    "final_model = torch.load(\"./stress_level_detection_model.pt\", weights_only=False).to(device)"
   ]
  },
  {
   "cell_type": "markdown",
   "id": "9d9b68ab-3b7d-46ff-a0e5-7501f0f78d64",
   "metadata": {},
   "source": [
    "## Preprocessing Test_set"
   ]
  },
  {
   "cell_type": "markdown",
   "id": "0e406d64-34ca-4f64-90d8-28d991ba241e",
   "metadata": {
    "jp-MarkdownHeadingCollapsed": true
   },
   "source": [
    "### Define X and y for test_set"
   ]
  },
  {
   "cell_type": "code",
   "execution_count": 26,
   "id": "90ce7b8b-705c-4411-bf8d-3548dbde7a4c",
   "metadata": {},
   "outputs": [
    {
     "data": {
      "text/plain": [
       "((41033, 7), (41033,))"
      ]
     },
     "execution_count": 26,
     "metadata": {},
     "output_type": "execute_result"
    }
   ],
   "source": [
    "x_test = test_set[features_label].values.copy()\n",
    "y_test = test_set[target_label].values\n",
    "\n",
    "x_test.shape, y_test.shape"
   ]
  },
  {
   "cell_type": "markdown",
   "id": "08ea8bf5-2088-44bc-9d69-3045702eef82",
   "metadata": {
    "jp-MarkdownHeadingCollapsed": true
   },
   "source": [
    "### Convert target object column"
   ]
  },
  {
   "cell_type": "code",
   "execution_count": 27,
   "id": "bab52a1f-f0e7-442b-a5a4-b54af5b52cb9",
   "metadata": {},
   "outputs": [],
   "source": [
    "y_test_encoded = label_encoder.fit_transform(y_test)"
   ]
  },
  {
   "cell_type": "markdown",
   "id": "7cb2cc6d-6956-483a-a119-63e23c37d8b8",
   "metadata": {
    "jp-MarkdownHeadingCollapsed": true
   },
   "source": [
    "### Convert to Tensor"
   ]
  },
  {
   "cell_type": "code",
   "execution_count": 28,
   "id": "adab952e-93b6-4c39-9cae-487ab0a4a391",
   "metadata": {},
   "outputs": [
    {
     "data": {
      "text/plain": [
       "(torch.Size([41033, 7]), torch.Size([41033]))"
      ]
     },
     "execution_count": 28,
     "metadata": {},
     "output_type": "execute_result"
    }
   ],
   "source": [
    "x_test_ten = torch.FloatTensor(x_test)\n",
    "y_test_ten = torch.LongTensor(y_test_encoded)\n",
    "\n",
    "x_test_ten.shape, y_test_ten.shape"
   ]
  },
  {
   "cell_type": "markdown",
   "id": "56491875-e15e-4a01-9971-c3e755443793",
   "metadata": {
    "jp-MarkdownHeadingCollapsed": true
   },
   "source": [
    "### Standardization"
   ]
  },
  {
   "cell_type": "code",
   "execution_count": 29,
   "id": "8025c836-17d4-4136-b799-e9637c7807ba",
   "metadata": {},
   "outputs": [
    {
     "data": {
      "text/plain": [
       "torch.Size([41033, 7])"
      ]
     },
     "execution_count": 29,
     "metadata": {},
     "output_type": "execute_result"
    }
   ],
   "source": [
    "x_test_stand = (x_test_ten - x_train_mean) / x_train_std\n",
    "\n",
    "x_test_stand.shape"
   ]
  },
  {
   "cell_type": "markdown",
   "id": "c38fbc0c-6ad0-43b0-9437-112fbbd30137",
   "metadata": {
    "jp-MarkdownHeadingCollapsed": true
   },
   "source": [
    "### Testing"
   ]
  },
  {
   "cell_type": "code",
   "execution_count": 30,
   "id": "38de998c-0ee9-479a-84a2-f0ce7fc46ed2",
   "metadata": {},
   "outputs": [],
   "source": [
    "with torch.no_grad():\n",
    "    x_test_device, y_test_device = x_test_stand.to(device), y_test_ten.to(device)\n",
    "    \n",
    "    yp = final_model(x_test_device)\n",
    "    \n",
    "    loss_fn = nn.CrossEntropyLoss()\n",
    "    acc_fn = Accuracy(task=\"multiclass\", num_classes=len(y_test_ten.unique())).to(device)\n",
    "    \n",
    "    test_loss = loss_fn(yp, y_test_device).item()\n",
    "    acc_fn(yp, y_test_device)\n",
    "    test_acc = acc_fn.compute().item()"
   ]
  },
  {
   "cell_type": "markdown",
   "id": "be5dd7fa-6559-4c0d-835f-fd53616a3585",
   "metadata": {},
   "source": [
    "# Testing Report"
   ]
  },
  {
   "cell_type": "code",
   "execution_count": 31,
   "id": "158dd813-6d3e-4299-aba6-d12f2b5f8ee7",
   "metadata": {},
   "outputs": [
    {
     "name": "stdout",
     "output_type": "stream",
     "text": [
      "Test Accuracy: 97.33, Cross Entropy Loss: 0.07789\n"
     ]
    }
   ],
   "source": [
    "print(f\"Test Accuracy: {100*test_acc:.4}, Cross Entropy Loss: {test_loss:.4}\")"
   ]
  }
 ],
 "metadata": {
  "kernelspec": {
   "display_name": "Python 3 (ipykernel)",
   "language": "python",
   "name": "python3"
  },
  "language_info": {
   "codemirror_mode": {
    "name": "ipython",
    "version": 3
   },
   "file_extension": ".py",
   "mimetype": "text/x-python",
   "name": "python",
   "nbconvert_exporter": "python",
   "pygments_lexer": "ipython3",
   "version": "3.12.5"
  }
 },
 "nbformat": 4,
 "nbformat_minor": 5
}
